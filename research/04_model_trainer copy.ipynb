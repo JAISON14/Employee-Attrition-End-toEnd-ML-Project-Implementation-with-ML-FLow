{
 "cells": [
  {
   "cell_type": "code",
   "execution_count": 1,
   "metadata": {},
   "outputs": [],
   "source": [
    "import os"
   ]
  },
  {
   "cell_type": "code",
   "execution_count": 2,
   "metadata": {},
   "outputs": [
    {
     "data": {
      "text/plain": [
       "'c:\\\\Users\\\\Jaison\\\\Documents\\\\Workspace\\\\Main Projects\\\\End_to_end_Employee\\\\End_to_End_Implementation\\\\research'"
      ]
     },
     "execution_count": 2,
     "metadata": {},
     "output_type": "execute_result"
    }
   ],
   "source": [
    "%pwd"
   ]
  },
  {
   "cell_type": "code",
   "execution_count": 3,
   "metadata": {},
   "outputs": [],
   "source": [
    "os.chdir(\"../\")"
   ]
  },
  {
   "cell_type": "code",
   "execution_count": 4,
   "metadata": {},
   "outputs": [
    {
     "data": {
      "text/plain": [
       "'c:\\\\Users\\\\Jaison\\\\Documents\\\\Workspace\\\\Main Projects\\\\End_to_end_Employee\\\\End_to_End_Implementation'"
      ]
     },
     "execution_count": 4,
     "metadata": {},
     "output_type": "execute_result"
    }
   ],
   "source": [
    "%pwd"
   ]
  },
  {
   "cell_type": "code",
   "execution_count": 5,
   "metadata": {},
   "outputs": [],
   "source": [
    "import os\n",
    "\n",
    "os.environ['MLFLOW_TRACKING_URI'] = 'https://dagshub.com/JAISON14/End_to_End_Implementation.mlflow'\n",
    "os.environ['MLFLOW_TRACKING_USERNAME'] = 'Enter User name here'\n",
    "os.environ['MLFLOW_TRACKING_PASSWORD'] = 'Enter Password Here'\n"
   ]
  },
  {
   "cell_type": "code",
   "execution_count": 6,
   "metadata": {},
   "outputs": [],
   "source": [
    "from dataclasses import dataclass\n",
    "from pathlib import Path\n",
    "from typing import Dict\n",
    "\n",
    "@dataclass(frozen=True)\n",
    "class ModelTrainerConfig:\n",
    "    root_dir: Path\n",
    "    train_data_path: Path\n",
    "    test_data_path: Path\n",
    "    train_target_path: Path\n",
    "    test_target_path: Path\n",
    "    model_name: str\n",
    "    model_type: str # New field to identify model type\n",
    "    hyperparameters: Dict[str, float]\n",
    "    # alpha: float\n",
    "    # l1_ratio: float\n",
    "    # target_column: str\n",
    "    "
   ]
  },
  {
   "cell_type": "code",
   "execution_count": 7,
   "metadata": {},
   "outputs": [],
   "source": [
    "from Employee_Attition_End_to_end_ML_project_with_MLflow.constants import *\n",
    "from Employee_Attition_End_to_end_ML_project_with_MLflow.utils.common import read_yaml, create_directories\n"
   ]
  },
  {
   "cell_type": "code",
   "execution_count": 8,
   "metadata": {},
   "outputs": [],
   "source": [
    "class ConfigurationManager:\n",
    "    def __init__(\n",
    "        self,\n",
    "        config_filepath = CONFIG_FILE_PATH,\n",
    "        params_filepath = PARAMS_FILE_PATH,\n",
    "        schema_filepath = SCHEMA_FILE_PATH):\n",
    "\n",
    "        self.config = read_yaml(config_filepath)\n",
    "        self.params = read_yaml(params_filepath)\n",
    "        self.schema = read_yaml(schema_filepath)\n",
    "\n",
    "        create_directories([self.config.artifacts_root])\n",
    "\n",
    "\n",
    "    def get_model_trainer_config(self, model_type: str) -> ModelTrainerConfig:\n",
    "        config = self.config.model_trainer\n",
    "        params = self.params.ElasticNet\n",
    "        schema =  self.schema.TARGET_COLUMN\n",
    "        hyperparameters = self.params.get(model_type, {})\n",
    "\n",
    "        create_directories([config.root_dir])\n",
    "\n",
    "        model_trainer_config = ModelTrainerConfig(\n",
    "            root_dir=config.root_dir,\n",
    "            train_data_path = config.train_data_path,\n",
    "            test_data_path = config.test_data_path,\n",
    "            train_target_path = config.train_target_path,\n",
    "            test_target_path = config.test_target_path,\n",
    "            model_name = config.model_name,\n",
    "            model_type = model_type,\n",
    "            hyperparameters=params.hyperparameters\n",
    "            # alpha = params.alpha,\n",
    "            # l1_ratio = params.l1_ratio,\n",
    "            # target_column = schema.name\n",
    "            \n",
    "        )\n",
    "\n",
    "        return model_trainer_config"
   ]
  },
  {
   "cell_type": "code",
   "execution_count": 9,
   "metadata": {},
   "outputs": [],
   "source": [
    "import pandas as pd\n",
    "import os\n",
    "from Employee_Attition_End_to_end_ML_project_with_MLflow import logger\n",
    "import joblib"
   ]
  },
  {
   "cell_type": "code",
   "execution_count": 10,
   "metadata": {},
   "outputs": [],
   "source": [
    "import mlflow\n",
    "import mlflow.sklearn \n",
    "from sklearn.base import clone\n",
    "from sklearn.metrics import accuracy_score, precision_score, recall_score, f1_score"
   ]
  },
  {
   "cell_type": "code",
   "execution_count": 18,
   "metadata": {},
   "outputs": [],
   "source": [
    "class ModelTrainer:\n",
    "    def __init__(self, config: ModelTrainerConfig,model):\n",
    "        self.config = config\n",
    "        self.model = model\n",
    "\n",
    "    \n",
    "    def train(self):\n",
    "            # Set MLflow server URI\n",
    "            mlflow.set_tracking_uri('https://dagshub.com/JAISON14/End_to_End_Implementation.mlflow')\n",
    "            \n",
    "            mlflow.set_experiment(f\"Experiment_{self.config.model_type}\")\n",
    "            \n",
    "            with mlflow.start_run(run_name=f\"Run_{self.config.model_type}\") as run:\n",
    "                train_x = joblib.load(self.config.train_data_path)\n",
    "                test_x = joblib.load(self.config.test_data_path)\n",
    "                train_y = joblib.load(self.config.train_target_path)\n",
    "                test_y = joblib.load(self.config.test_target_path)\n",
    "                \n",
    "                model = clone(self.model)\n",
    "                model.set_params(**self.config.hyperparameters)  \n",
    "                model.fit(train_x, train_y)\n",
    "                \n",
    "                # Predict on train and test sets\n",
    "                train_pred = model.predict(train_x)\n",
    "                test_pred = model.predict(test_x)\n",
    "                \n",
    "                # Calculate metrics for the train set\n",
    "                train_accuracy = accuracy_score(train_y, train_pred)\n",
    "                train_precision = precision_score(train_y, train_pred, average='weighted')\n",
    "                train_recall = recall_score(train_y, train_pred, average='weighted')\n",
    "                train_f1 = f1_score(train_y, train_pred, average='weighted')\n",
    "                \n",
    "                # Log metrics to MLflow\n",
    "                mlflow.log_metric(\"train_accuracy\", train_accuracy)\n",
    "                mlflow.log_metric(\"train_precision\", train_precision)\n",
    "                mlflow.log_metric(\"train_recall\", train_recall)\n",
    "                mlflow.log_metric(\"train_f1\", train_f1)\n",
    "                \n",
    "                # Calculate metrics for the test set\n",
    "                test_accuracy = accuracy_score(test_y, test_pred)\n",
    "                test_precision = precision_score(test_y, test_pred, average='weighted')\n",
    "                test_recall = recall_score(test_y, test_pred, average='weighted')\n",
    "                test_f1 = f1_score(test_y, test_pred, average='weighted')\n",
    "                \n",
    "                # Log metrics to MLflow\n",
    "                mlflow.log_metric(\"test_accuracy\", test_accuracy)\n",
    "                mlflow.log_metric(\"test_precision\", test_precision)\n",
    "                mlflow.log_metric(\"test_recall\", test_recall)\n",
    "                mlflow.log_metric(\"test_f1\", test_f1)\n",
    "                \n",
    "                # Log hyperparameters\n",
    "                mlflow.log_params(self.config.hyperparameters)\n",
    "                \n",
    "                # Log model\n",
    "                mlflow.sklearn.log_model(model, f\"{self.config.model_name}_{self.config.model_type}\")\n",
    "                joblib.dump(model, os.path.join(self.config.root_dir, self.config.model_type))\n",
    "            # mlflow.sklearn.log_model(lr, f\"{self.config.model_name}\")\n",
    "            # joblib.dump(lr, os.path.join(self.config.root_dir, self.config.model_name))\n",
    "\n",
    "\n"
   ]
  },
  {
   "cell_type": "code",
   "execution_count": null,
   "metadata": {},
   "outputs": [],
   "source": []
  },
  {
   "cell_type": "code",
   "execution_count": 12,
   "metadata": {},
   "outputs": [],
   "source": [
    "from sklearn.linear_model import LogisticRegression\n",
    "from sklearn.svm import SVC\n",
    "from sklearn.neighbors import KNeighborsClassifier\n",
    "from sklearn.tree import DecisionTreeClassifier\n",
    "from sklearn.ensemble import RandomForestClassifier, GradientBoostingClassifier, AdaBoostClassifier\n",
    "from sklearn.neural_network import MLPClassifier\n",
    "from sklearn.naive_bayes import GaussianNB\n",
    "from xgboost import XGBClassifier\n",
    "from lightgbm import LGBMClassifier\n",
    "from catboost import CatBoostClassifier\n",
    "#from imblearn.ensemble import RUSBoostClassifier, EasyEnsembleClassifier"
   ]
  },
  {
   "cell_type": "code",
   "execution_count": 19,
   "metadata": {},
   "outputs": [
    {
     "name": "stdout",
     "output_type": "stream",
     "text": [
      "[2023-09-23 14:45:06,254: INFO: common: yaml file: config\\config.yaml loaded successfully]\n",
      "[2023-09-23 14:45:06,265: INFO: common: yaml file: params.yaml loaded successfully]\n",
      "[2023-09-23 14:45:06,301: INFO: common: yaml file: schema.yaml loaded successfully]\n",
      "[2023-09-23 14:45:06,307: INFO: common: created directory at: artifacts]\n",
      "[2023-09-23 14:45:06,315: INFO: common: created directory at: artifacts/model_trainer]\n"
     ]
    }
   ],
   "source": [
    "try:\n",
    "    config_manager = ConfigurationManager()\n",
    "    models = [\n",
    "        (LogisticRegression(random_state=42), \"Logistic Regression\"),\n",
    "        # (SVC(random_state=42), \"Support Vector Machines\"),\n",
    "        # (KNeighborsClassifier(), \"K-Nearest Neighbors\"),\n",
    "        # (DecisionTreeClassifier(random_state=42), \"Decision Trees\"),\n",
    "        # (RandomForestClassifier(random_state=42), \"Random Forest\"),\n",
    "        # (GradientBoostingClassifier(random_state=42), \"Gradient Boosting\"),\n",
    "        # (MLPClassifier(random_state=42), \"Neural Networks\"),\n",
    "        # (GaussianNB(), \"Naive Bayes\"),\n",
    "        # (AdaBoostClassifier(random_state=42), \"AdaBoost\"),\n",
    "        # (XGBClassifier(random_state=42), \"XGBoost\"),\n",
    "        # (LGBMClassifier(random_state=42), \"LightGBM\"),\n",
    "        # (CatBoostClassifier(random_state=42, verbose=0), \"CatBoost\")\n",
    "    ]\n",
    "\n",
    "    for model, model_type in models:\n",
    "        model_trainer_config = config_manager.get_model_trainer_config(model_type=model_type)\n",
    "        trainer = ModelTrainer(config=model_trainer_config, model=model)  # Pass the model here\n",
    "        trainer.train()\n",
    "except Exception as e:\n",
    "    raise e"
   ]
  },
  {
   "cell_type": "code",
   "execution_count": null,
   "metadata": {},
   "outputs": [],
   "source": []
  },
  {
   "cell_type": "code",
   "execution_count": null,
   "metadata": {},
   "outputs": [],
   "source": []
  }
 ],
 "metadata": {
  "kernelspec": {
   "display_name": "mlproj",
   "language": "python",
   "name": "python3"
  },
  "language_info": {
   "codemirror_mode": {
    "name": "ipython",
    "version": 3
   },
   "file_extension": ".py",
   "mimetype": "text/x-python",
   "name": "python",
   "nbconvert_exporter": "python",
   "pygments_lexer": "ipython3",
   "version": "3.8.18"
  },
  "orig_nbformat": 4
 },
 "nbformat": 4,
 "nbformat_minor": 2
}
